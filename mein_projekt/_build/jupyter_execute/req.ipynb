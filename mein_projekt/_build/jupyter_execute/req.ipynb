{
 "cells": [
  {
   "cell_type": "markdown",
   "metadata": {},
   "source": [
    "# Requirements for the Credit Card Fraud Detection Application\n"
   ]
  },
  {
   "cell_type": "markdown",
   "metadata": {},
   "source": [
    "## Funktionale Anforderungen\n"
   ]
  },
  {
   "cell_type": "markdown",
   "metadata": {},
   "source": [
    "### **Betrugserkennungsleistung**\n",
    "Der implementierte Algorithmus muss eine Mindesterkennungsrate von 75% für Betrugsfälle aufweisen.\n",
    "\n",
    "**Hintergrundinformationen:**\n",
    "Die hohe Erkennungsrate ist entscheidend, um finanziellen Verlust zu minimieren und die Integrität der Kreditkartentransaktionen sicherzustellen."
   ]
  }
 ],
 "metadata": {
  "language_info": {
   "codemirror_mode": {
    "name": "ipython",
    "version": 3
   },
   "file_extension": ".py",
   "mimetype": "text/x-python",
   "name": "python",
   "nbconvert_exporter": "python",
   "pygments_lexer": "ipython3",
   "version": "3.11.5"
  }
 },
 "nbformat": 4,
 "nbformat_minor": 2
}