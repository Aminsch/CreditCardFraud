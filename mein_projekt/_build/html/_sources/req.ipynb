{
 "cells": [
  {
   "cell_type": "markdown",
   "metadata": {},
   "source": [
    "# Requirements for the Credit Card Fraud Detection Application\n"
   ]
  },
  {
   "cell_type": "markdown",
   "metadata": {},
   "source": [
    "## Funktionale Anforderungen\n"
   ]
  },
  {
   "cell_type": "markdown",
   "metadata": {},
   "source": [
    "### **Betrugserkennungsleistung**\n",
    "Der implementierte Algorithmus muss eine Mindesterkennungsrate von 75% für Betrugsfälle aufweisen.\n",
    "\n",
    "**Hintergrundinformationen:**\n",
    "Die hohe Erkennungsrate ist entscheidend, um finanziellen Verlust zu minimieren und die Integrität der Kreditkartentransaktionen sicherzustellen."
   ]
  }
 ],
 "metadata": {
  "language_info": {
   "name": "python"
  }
 },
 "nbformat": 4,
 "nbformat_minor": 2
}
